{
  "nbformat": 4,
  "nbformat_minor": 0,
  "metadata": {
    "colab": {
      "name": "3. Grid Search Hyperparameters for DL.ipynb",
      "provenance": [],
      "collapsed_sections": []
    },
    "kernelspec": {
      "name": "python3",
      "display_name": "Python 3"
    },
    "language_info": {
      "name": "python"
    },
    "accelerator": "GPU"
  },
  "cells": [
    {
      "cell_type": "code",
      "execution_count": null,
      "metadata": {
        "id": "OGm9nace0dFz"
      },
      "outputs": [],
      "source": [
        "import numpy as np\n",
        "from sklearn.model_selection import GridSearchCV\n",
        "from keras.models import Sequential\n",
        "from keras.layers import Dense\n",
        "from keras.wrappers.scikit_learn import KerasClassifier"
      ]
    },
    {
      "cell_type": "markdown",
      "source": [
        "# How to Tune Batch Size and Number of **Epochs**"
      ],
      "metadata": {
        "id": "7QSVAsnZL2QR"
      }
    },
    {
      "cell_type": "code",
      "source": [
        "def create_model():\n",
        "  model = Sequential()\n",
        "  model.add(Dense(16, input_dim=8, activation='relu'))\n",
        "  model.add(Dense(1, activation='sigmoid'))\n",
        "  model.compile(loss='binary_crossentropy', optimizer='adam', metrics=['accuracy'])\n",
        "  return model"
      ],
      "metadata": {
        "id": "NupinAc0LxDQ"
      },
      "execution_count": null,
      "outputs": []
    },
    {
      "cell_type": "code",
      "source": [
        "dataset = np.loadtxt('/content/drive/MyDrive/DeepLearning/ANN/pima-indians-diabetes.csv', delimiter=',')"
      ],
      "metadata": {
        "id": "HFT-qF-ZMo2U"
      },
      "execution_count": null,
      "outputs": []
    },
    {
      "cell_type": "code",
      "source": [
        "X = dataset[:, 0:8]\n",
        "y = dataset[:, 8]"
      ],
      "metadata": {
        "id": "Y9mJyPcSMzhr"
      },
      "execution_count": null,
      "outputs": []
    },
    {
      "cell_type": "code",
      "source": [
        "# create model\n",
        "model = KerasClassifier(build_fn=create_model, verbose=0)"
      ],
      "metadata": {
        "colab": {
          "base_uri": "https://localhost:8080/"
        },
        "id": "DM1WaZvmM4Nr",
        "outputId": "24e22ddb-08e2-4ebd-d7ff-e836100d6d2e"
      },
      "execution_count": null,
      "outputs": [
        {
          "output_type": "stream",
          "name": "stderr",
          "text": [
            "/usr/local/lib/python3.7/dist-packages/ipykernel_launcher.py:2: DeprecationWarning: KerasClassifier is deprecated, use Sci-Keras (https://github.com/adriangb/scikeras) instead.\n",
            "  \n"
          ]
        }
      ]
    },
    {
      "cell_type": "code",
      "source": [
        "# define the grid search parameters\n",
        "\n",
        "batch_size = [10,20, 40, 60, 80, 100]\n",
        "epochs = [10, 50, 100]\n",
        "param = dict(batch_size=batch_size, epochs=epochs)\n",
        "\n",
        "grid = GridSearchCV(estimator=model, param_grid=param, cv=3, n_jobs=-1)"
      ],
      "metadata": {
        "id": "fg86S7hkNIbT"
      },
      "execution_count": null,
      "outputs": []
    },
    {
      "cell_type": "code",
      "source": [
        "grid_result = grid.fit(X,y)"
      ],
      "metadata": {
        "id": "-zg5qeAxNyzh"
      },
      "execution_count": null,
      "outputs": []
    },
    {
      "cell_type": "code",
      "source": [
        "# summarize results\n",
        "print(\"Best: %f using %s\" % (grid_result.best_score_, grid_result.best_params_))"
      ],
      "metadata": {
        "colab": {
          "base_uri": "https://localhost:8080/"
        },
        "id": "bcvUyIfIN368",
        "outputId": "01c860b2-9c42-47ee-d619-5f73d4e4590c"
      },
      "execution_count": null,
      "outputs": [
        {
          "output_type": "stream",
          "name": "stdout",
          "text": [
            "Best: 0.717448 using {'batch_size': 10, 'epochs': 100}\n"
          ]
        }
      ]
    },
    {
      "cell_type": "code",
      "source": [
        "means = grid_result.cv_results_['mean_test_score']\n",
        "stds = grid_result.cv_results_['std_test_score']\n",
        "params = grid_result.cv_results_['params']\n",
        "for mean, stdev, param in zip(means, stds, params):\n",
        "    print(\"%f (%f) with: %r\" % (mean, stdev, param))"
      ],
      "metadata": {
        "colab": {
          "base_uri": "https://localhost:8080/"
        },
        "id": "XN2f9yGPPPVz",
        "outputId": "04757927-6004-4985-82d0-9c910cf16f27"
      },
      "execution_count": null,
      "outputs": [
        {
          "output_type": "stream",
          "name": "stdout",
          "text": [
            "0.649740 (0.045256) with: {'batch_size': 10, 'epochs': 10}\n",
            "0.648438 (0.015947) with: {'batch_size': 10, 'epochs': 50}\n",
            "0.717448 (0.020505) with: {'batch_size': 10, 'epochs': 100}\n",
            "0.626302 (0.028940) with: {'batch_size': 20, 'epochs': 10}\n",
            "0.652344 (0.038670) with: {'batch_size': 20, 'epochs': 50}\n",
            "0.701823 (0.010253) with: {'batch_size': 20, 'epochs': 100}\n",
            "0.572917 (0.092951) with: {'batch_size': 40, 'epochs': 10}\n",
            "0.653646 (0.017566) with: {'batch_size': 40, 'epochs': 50}\n",
            "0.687500 (0.019918) with: {'batch_size': 40, 'epochs': 100}\n",
            "0.565104 (0.016053) with: {'batch_size': 60, 'epochs': 10}\n",
            "0.660156 (0.013902) with: {'batch_size': 60, 'epochs': 50}\n",
            "0.639323 (0.016367) with: {'batch_size': 60, 'epochs': 100}\n",
            "0.583333 (0.030145) with: {'batch_size': 80, 'epochs': 10}\n",
            "0.645833 (0.046146) with: {'batch_size': 80, 'epochs': 50}\n",
            "0.674479 (0.001841) with: {'batch_size': 80, 'epochs': 100}\n",
            "0.587240 (0.077886) with: {'batch_size': 100, 'epochs': 10}\n",
            "0.644531 (0.017758) with: {'batch_size': 100, 'epochs': 50}\n",
            "0.654948 (0.028940) with: {'batch_size': 100, 'epochs': 100}\n"
          ]
        }
      ]
    },
    {
      "cell_type": "code",
      "source": [
        "from google.colab import drive\n",
        "drive.mount('/content/drive')"
      ],
      "metadata": {
        "colab": {
          "base_uri": "https://localhost:8080/"
        },
        "id": "LX8_NVIoqulJ",
        "outputId": "d00f0ed6-98e1-4fb3-f64d-c29e8ea368c3"
      },
      "execution_count": null,
      "outputs": [
        {
          "output_type": "stream",
          "name": "stdout",
          "text": [
            "Drive already mounted at /content/drive; to attempt to forcibly remount, call drive.mount(\"/content/drive\", force_remount=True).\n"
          ]
        }
      ]
    },
    {
      "cell_type": "markdown",
      "source": [
        "##How to Tune the Training Optimization Algorithm"
      ],
      "metadata": {
        "id": "yJdBk63mrAJK"
      }
    },
    {
      "cell_type": "code",
      "source": [
        "import numpy as np\n",
        "from sklearn.model_selection import GridSearchCV\n",
        "from keras.models import Sequential\n",
        "from keras.layers import Dense\n",
        "from keras.wrappers.scikit_learn import KerasClassifier"
      ],
      "metadata": {
        "id": "iOsSFOU0q_fo"
      },
      "execution_count": null,
      "outputs": []
    },
    {
      "cell_type": "code",
      "source": [
        "# create model\n",
        "def create_model(optimizer='Adam'):\n",
        "  model = Sequential()\n",
        "  model.add(Dense(16, input_dim=8, activation='relu'))\n",
        "  model.add(Dense(1, activation='sigmoid'))\n",
        "  model.compile(loss='binary_crossentropy', optimizer=optimizer, metrics=['accuracy'])\n",
        "  return model"
      ],
      "metadata": {
        "id": "EK8QNUKXPTKZ"
      },
      "execution_count": null,
      "outputs": []
    },
    {
      "cell_type": "code",
      "source": [
        "df = np.loadtxt('/content/drive/MyDrive/DeepLearning/ANN/pima-indians-diabetes.csv', delimiter=',')"
      ],
      "metadata": {
        "id": "BtyUhK7xr3jK"
      },
      "execution_count": null,
      "outputs": []
    },
    {
      "cell_type": "code",
      "source": [
        "X = df[:, 0:8]\n",
        "y = df[:, 8]"
      ],
      "metadata": {
        "id": "TT8O9w0fsq1w"
      },
      "execution_count": null,
      "outputs": []
    },
    {
      "cell_type": "code",
      "source": [
        "model = KerasClassifier(build_fn=create_model, verbose=0, batch_size=10, epochs=100)"
      ],
      "metadata": {
        "colab": {
          "base_uri": "https://localhost:8080/"
        },
        "id": "0jItumcmsve0",
        "outputId": "53e3649a-edae-4ec8-de4b-e8eef5e08ab8"
      },
      "execution_count": null,
      "outputs": [
        {
          "output_type": "stream",
          "name": "stderr",
          "text": [
            "/usr/local/lib/python3.7/dist-packages/ipykernel_launcher.py:1: DeprecationWarning: KerasClassifier is deprecated, use Sci-Keras (https://github.com/adriangb/scikeras) instead.\n",
            "  \"\"\"Entry point for launching an IPython kernel.\n"
          ]
        }
      ]
    },
    {
      "cell_type": "code",
      "source": [
        "# define the grid search parameters\n",
        "optimizer = ['SGD', 'RMSprop', 'Adagrad', 'Adadelta', 'Adam', 'Adamax', 'Nadam']\n",
        "param_grid = dict(optimizer=optimizer)\n",
        "grid = GridSearchCV(estimator=model, param_grid=param_grid, n_jobs=1, cv=3)\n",
        "grid.get_params()\n",
        "grid_result = grid.fit(X, y)"
      ],
      "metadata": {
        "id": "2j_XbUSWs_-P"
      },
      "execution_count": null,
      "outputs": []
    },
    {
      "cell_type": "markdown",
      "source": [
        "# How to Tune Learning Rate and Momentum"
      ],
      "metadata": {
        "id": "Fdcp_VZEk4Ze"
      }
    },
    {
      "cell_type": "code",
      "source": [
        "import numpy as np\n",
        "from sklearn.model_selection import GridSearchCV\n",
        "from keras.models import Sequential\n",
        "from keras.layers import Dense\n",
        "from keras.wrappers.scikit_learn import KerasClassifier\n",
        "from tensorflow.keras.optimizers import SGD"
      ],
      "metadata": {
        "id": "g0w2TpiuuxEo"
      },
      "execution_count": null,
      "outputs": []
    },
    {
      "cell_type": "code",
      "source": [
        "def create_model(learn_rate=0.01, momentum=0):\n",
        "  model = Sequential()\n",
        "  model.add(Dense(16, input_dim=8, activation='relu'))\n",
        "  model.add(Dense(1, activation='sigmoid'))\n",
        "  optimizer = SGD(lr = learn_rate, momentum=momentum)\n",
        "  model.compile(loss='binary_crossentropy', optimizer=optimizer, metrics=['accuracy'])\n",
        "  return model"
      ],
      "metadata": {
        "id": "YX9-oViWviHp"
      },
      "execution_count": null,
      "outputs": []
    },
    {
      "cell_type": "code",
      "source": [
        "df = np.loadtxt('/content/drive/MyDrive/DeepLearning/ANN/pima-indians-diabetes.csv', delimiter=',')\n",
        "X = df[:, 0:8]\n",
        "y = df[:, 8]"
      ],
      "metadata": {
        "id": "NQ2k4Gon48VB"
      },
      "execution_count": null,
      "outputs": []
    },
    {
      "cell_type": "code",
      "source": [
        "model = KerasClassifier(build_fn=create_model, batch_size=10, epochs=100, verbose=0)"
      ],
      "metadata": {
        "colab": {
          "base_uri": "https://localhost:8080/"
        },
        "id": "5NY9jGZPnF9H",
        "outputId": "9c841f1c-5c77-4454-8f7e-64f073a8c486"
      },
      "execution_count": null,
      "outputs": [
        {
          "output_type": "stream",
          "name": "stderr",
          "text": [
            "/usr/local/lib/python3.7/dist-packages/ipykernel_launcher.py:1: DeprecationWarning: KerasClassifier is deprecated, use Sci-Keras (https://github.com/adriangb/scikeras) instead.\n",
            "  \"\"\"Entry point for launching an IPython kernel.\n"
          ]
        }
      ]
    },
    {
      "cell_type": "code",
      "source": [
        "learning_rate=[0.001, 0.01, 0.1, 0.2, 0.3]\n",
        "momentum = [0.0, 0.2, 0.4, 0.6, 0.8]\n",
        "param = dict(learn_rate=learning_rate, momentum=momentum)\n",
        "\n",
        "grid = GridSearchCV(estimator=model, param_grid=param, cv=3, n_jobs=-1)"
      ],
      "metadata": {
        "id": "-Y5BP_ZQnRLW"
      },
      "execution_count": null,
      "outputs": []
    },
    {
      "cell_type": "code",
      "source": [
        "grid_result = grid.fit(X, y)"
      ],
      "metadata": {
        "colab": {
          "base_uri": "https://localhost:8080/"
        },
        "id": "r0KPByqYoNXR",
        "outputId": "5aeafeb7-3a62-4abd-b726-0b8c43823b5f"
      },
      "execution_count": null,
      "outputs": [
        {
          "output_type": "stream",
          "name": "stderr",
          "text": [
            "/usr/local/lib/python3.7/dist-packages/keras/optimizer_v2/gradient_descent.py:102: UserWarning: The `lr` argument is deprecated, use `learning_rate` instead.\n",
            "  super(SGD, self).__init__(name, **kwargs)\n"
          ]
        }
      ]
    },
    {
      "cell_type": "code",
      "source": [
        ""
      ],
      "metadata": {
        "id": "_pexX-92oZmf"
      },
      "execution_count": null,
      "outputs": []
    },
    {
      "cell_type": "markdown",
      "source": [
        "# How to Tune Network Weight Initialization"
      ],
      "metadata": {
        "id": "AC4qgTr8_vd7"
      }
    },
    {
      "cell_type": "code",
      "source": [
        "import numpy as np\n",
        "from sklearn.model_selection import GridSearchCV\n",
        "from keras.models import Sequential\n",
        "from keras.layers import Dense\n",
        "from keras.wrappers.scikit_learn import KerasClassifier"
      ],
      "metadata": {
        "id": "37bQoMuj_wna"
      },
      "execution_count": null,
      "outputs": []
    },
    {
      "cell_type": "code",
      "source": [
        "def create_model(initializer='uniform'):\n",
        "  model = Sequential()\n",
        "  model.add(Dense(16, input_dim=8, activation='relu', kernel_initializer=initializer))\n",
        "  model.add(Dense(1, kernel_initializer=initializer, activation='sigmoid'))\n",
        "  model.compile(loss='binary_crossentropy', optimizer='Adam', metrics=['accuracy'])\n",
        "  return model"
      ],
      "metadata": {
        "id": "9KBeZB1ZCXFx"
      },
      "execution_count": null,
      "outputs": []
    },
    {
      "cell_type": "code",
      "source": [
        "df = np.loadtxt('/content/drive/MyDrive/DeepLearning/ANN/pima-indians-diabetes.csv', delimiter=',')\n",
        "X = df[:, 0:8]\n",
        "y = df[:, 8]"
      ],
      "metadata": {
        "id": "kchNvuJZEwXC"
      },
      "execution_count": null,
      "outputs": []
    },
    {
      "cell_type": "code",
      "source": [
        "model = KerasClassifier(build_fn=create_model, batch_size=10, epochs = 100, verbose=0)"
      ],
      "metadata": {
        "colab": {
          "base_uri": "https://localhost:8080/"
        },
        "id": "-X49ayuFFDSe",
        "outputId": "1562931d-fdc5-44c8-f3a2-67c734eac1bb"
      },
      "execution_count": null,
      "outputs": [
        {
          "output_type": "stream",
          "name": "stderr",
          "text": [
            "/usr/local/lib/python3.7/dist-packages/ipykernel_launcher.py:1: DeprecationWarning: KerasClassifier is deprecated, use Sci-Keras (https://github.com/adriangb/scikeras) instead.\n",
            "  \"\"\"Entry point for launching an IPython kernel.\n"
          ]
        }
      ]
    },
    {
      "cell_type": "code",
      "source": [
        "initializer = ['uniform', 'lecun_uniform', 'normal', 'zero', 'glorot_normal', 'glorot_uniform', 'he_normal', 'he_uniform']\n",
        "param  = dict(initializer=initializer)\n",
        "\n",
        "grid = GridSearchCV(estimator=model, param_grid=param, cv = 3, n_jobs=-1)"
      ],
      "metadata": {
        "id": "s33SXuy-FcUO"
      },
      "execution_count": null,
      "outputs": []
    },
    {
      "cell_type": "code",
      "source": [
        "grid_result = grid.fit(X, y)"
      ],
      "metadata": {
        "id": "nc4W9dCwGE7k"
      },
      "execution_count": null,
      "outputs": []
    },
    {
      "cell_type": "code",
      "source": [
        "# summarize results\n",
        "print(\"Best: %f using %s\" % (grid_result.best_score_, grid_result.best_params_))\n",
        "means = grid_result.cv_results_['mean_test_score']\n",
        "stds = grid_result.cv_results_['std_test_score']\n",
        "params = grid_result.cv_results_['params']\n",
        "for mean, stdev, param in zip(means, stds, params):\n",
        "    print(\"%f (%f) with: %r\" % (mean, stdev, param))"
      ],
      "metadata": {
        "colab": {
          "base_uri": "https://localhost:8080/"
        },
        "id": "XdMoBfrTGZ6R",
        "outputId": "7b6fabb8-34a1-457d-bb5c-1e2d85619fcc"
      },
      "execution_count": null,
      "outputs": [
        {
          "output_type": "stream",
          "name": "stdout",
          "text": [
            "Best: 0.734375 using {'initializer': 'uniform'}\n",
            "0.734375 (0.016877) with: {'initializer': 'uniform'}\n",
            "0.707031 (0.005524) with: {'initializer': 'lecun_uniform'}\n",
            "0.708333 (0.011201) with: {'initializer': 'normal'}\n",
            "0.651042 (0.024774) with: {'initializer': 'zero'}\n",
            "0.684896 (0.009744) with: {'initializer': 'glorot_normal'}\n",
            "0.704427 (0.009744) with: {'initializer': 'glorot_uniform'}\n",
            "0.679688 (0.035516) with: {'initializer': 'he_normal'}\n",
            "0.683594 (0.003189) with: {'initializer': 'he_uniform'}\n"
          ]
        }
      ]
    },
    {
      "cell_type": "markdown",
      "source": [
        "# How to Tune the Neuron Activation Function"
      ],
      "metadata": {
        "id": "LCF5Et3d00hN"
      }
    },
    {
      "cell_type": "code",
      "source": [
        "import numpy as np\n",
        "from sklearn.model_selection import GridSearchCV\n",
        "from sklearn.model_selection import train_test_split\n",
        "from keras.models import Sequential\n",
        "from keras.layers import Dense\n",
        "from keras.wrappers.scikit_learn import KerasClassifier"
      ],
      "metadata": {
        "id": "Jl8ZfEXm0px6"
      },
      "execution_count": null,
      "outputs": []
    },
    {
      "cell_type": "code",
      "source": [
        "def create_model(activation='relu'):\n",
        "  model = Sequential()\n",
        "  model.add(Dense(16, input_dim=8, activation=activation))\n",
        "  model.add(Dense(1, activation='sigmoid'))\n",
        "  model.compile(loss='binary_crossentropy', optimizer='Adam', metrics=['accuracy'])\n",
        "  return model"
      ],
      "metadata": {
        "id": "BnFkyXlH1M0Z"
      },
      "execution_count": null,
      "outputs": []
    },
    {
      "cell_type": "code",
      "source": [
        "df = np.loadtxt('/content/drive/MyDrive/DeepLearning/ANN/pima-indians-diabetes.csv', delimiter=',')\n",
        "X = df[:, 0:8]\n",
        "y = df[:, 8]"
      ],
      "metadata": {
        "id": "lQCAE3v11zZt"
      },
      "execution_count": null,
      "outputs": []
    },
    {
      "cell_type": "code",
      "source": [
        "X_train, X_test, y_train, y_test = train_test_split(X, y, test_size=0.2, random_state=0)"
      ],
      "metadata": {
        "id": "-ds9CaJk1ynG"
      },
      "execution_count": null,
      "outputs": []
    },
    {
      "cell_type": "code",
      "source": [
        "model = KerasClassifier(build_fn=create_model, batch_size=10, epochs=100)"
      ],
      "metadata": {
        "colab": {
          "base_uri": "https://localhost:8080/"
        },
        "id": "9J4tXUde2P9z",
        "outputId": "a712b236-819c-448f-a4d6-e24abd8b4ccb"
      },
      "execution_count": null,
      "outputs": [
        {
          "output_type": "stream",
          "name": "stderr",
          "text": [
            "/usr/local/lib/python3.7/dist-packages/ipykernel_launcher.py:1: DeprecationWarning: KerasClassifier is deprecated, use Sci-Keras (https://github.com/adriangb/scikeras) instead.\n",
            "  \"\"\"Entry point for launching an IPython kernel.\n"
          ]
        }
      ]
    },
    {
      "cell_type": "code",
      "source": [
        "activation = ['softmax', 'softplus', 'softsign', 'relu', 'tanh', 'sigmoid', 'hard_sigmoid', 'linear']\n",
        "param = dict(activation = activation)\n",
        "\n",
        "grid = GridSearchCV(estimator=model, param_grid=param, cv=3, n_jobs=-1)"
      ],
      "metadata": {
        "id": "9zPWsR9X2p3a"
      },
      "execution_count": null,
      "outputs": []
    },
    {
      "cell_type": "code",
      "source": [
        "grid_result = grid.fit(X_train, y_train)"
      ],
      "metadata": {
        "colab": {
          "base_uri": "https://localhost:8080/"
        },
        "id": "6aBiisxU3K0I",
        "outputId": "1c2074ad-5c14-424c-c2a6-9576ec81e5cc"
      },
      "execution_count": null,
      "outputs": [
        {
          "output_type": "stream",
          "name": "stdout",
          "text": [
            "Epoch 1/100\n",
            "62/62 [==============================] - 1s 4ms/step - loss: 8.6889 - accuracy: 0.5554\n",
            "Epoch 2/100\n",
            "62/62 [==============================] - 0s 4ms/step - loss: 2.0332 - accuracy: 0.5635\n",
            "Epoch 3/100\n",
            "62/62 [==============================] - 0s 4ms/step - loss: 1.1349 - accuracy: 0.6010\n",
            "Epoch 4/100\n",
            "62/62 [==============================] - 0s 4ms/step - loss: 0.8268 - accuracy: 0.5945\n",
            "Epoch 5/100\n",
            "62/62 [==============================] - 0s 4ms/step - loss: 0.7531 - accuracy: 0.6270\n",
            "Epoch 6/100\n",
            "62/62 [==============================] - 0s 4ms/step - loss: 0.7309 - accuracy: 0.6336\n",
            "Epoch 7/100\n",
            "62/62 [==============================] - 0s 4ms/step - loss: 0.6760 - accuracy: 0.6303\n",
            "Epoch 8/100\n",
            "62/62 [==============================] - 0s 4ms/step - loss: 0.6752 - accuracy: 0.6564\n",
            "Epoch 9/100\n",
            "62/62 [==============================] - 0s 4ms/step - loss: 0.6413 - accuracy: 0.6450\n",
            "Epoch 10/100\n",
            "62/62 [==============================] - 0s 4ms/step - loss: 0.6982 - accuracy: 0.6352\n",
            "Epoch 11/100\n",
            "62/62 [==============================] - 0s 4ms/step - loss: 0.7092 - accuracy: 0.6450\n",
            "Epoch 12/100\n",
            "62/62 [==============================] - 0s 4ms/step - loss: 0.7551 - accuracy: 0.6107\n",
            "Epoch 13/100\n",
            "62/62 [==============================] - 0s 4ms/step - loss: 0.6610 - accuracy: 0.6547\n",
            "Epoch 14/100\n",
            "62/62 [==============================] - 0s 4ms/step - loss: 0.6626 - accuracy: 0.6482\n",
            "Epoch 15/100\n",
            "62/62 [==============================] - 0s 4ms/step - loss: 0.6720 - accuracy: 0.6498\n",
            "Epoch 16/100\n",
            "62/62 [==============================] - 0s 4ms/step - loss: 0.7353 - accuracy: 0.6352\n",
            "Epoch 17/100\n",
            "62/62 [==============================] - 0s 4ms/step - loss: 0.6567 - accuracy: 0.6547\n",
            "Epoch 18/100\n",
            "62/62 [==============================] - 0s 4ms/step - loss: 0.6197 - accuracy: 0.6645\n",
            "Epoch 19/100\n",
            "62/62 [==============================] - 0s 4ms/step - loss: 0.6601 - accuracy: 0.6629\n",
            "Epoch 20/100\n",
            "62/62 [==============================] - 0s 4ms/step - loss: 0.7101 - accuracy: 0.6547\n",
            "Epoch 21/100\n",
            "62/62 [==============================] - 0s 4ms/step - loss: 0.6154 - accuracy: 0.6906\n",
            "Epoch 22/100\n",
            "62/62 [==============================] - 0s 4ms/step - loss: 0.6338 - accuracy: 0.6987\n",
            "Epoch 23/100\n",
            "62/62 [==============================] - 0s 4ms/step - loss: 0.7046 - accuracy: 0.6547\n",
            "Epoch 24/100\n",
            "62/62 [==============================] - 0s 4ms/step - loss: 0.6659 - accuracy: 0.6336\n",
            "Epoch 25/100\n",
            "62/62 [==============================] - 0s 4ms/step - loss: 0.6974 - accuracy: 0.6743\n",
            "Epoch 26/100\n",
            "62/62 [==============================] - 0s 4ms/step - loss: 0.6817 - accuracy: 0.6726\n",
            "Epoch 27/100\n",
            "62/62 [==============================] - 0s 3ms/step - loss: 0.7109 - accuracy: 0.6303\n",
            "Epoch 28/100\n",
            "62/62 [==============================] - 0s 4ms/step - loss: 0.6633 - accuracy: 0.6678\n",
            "Epoch 29/100\n",
            "62/62 [==============================] - 0s 3ms/step - loss: 0.7445 - accuracy: 0.6270\n",
            "Epoch 30/100\n",
            "62/62 [==============================] - 0s 4ms/step - loss: 0.6493 - accuracy: 0.6759\n",
            "Epoch 31/100\n",
            "62/62 [==============================] - 0s 3ms/step - loss: 0.7465 - accuracy: 0.6205\n",
            "Epoch 32/100\n",
            "62/62 [==============================] - 0s 3ms/step - loss: 0.6226 - accuracy: 0.6775\n",
            "Epoch 33/100\n",
            "62/62 [==============================] - 0s 4ms/step - loss: 0.6534 - accuracy: 0.6743\n",
            "Epoch 34/100\n",
            "62/62 [==============================] - 0s 4ms/step - loss: 0.6882 - accuracy: 0.6433\n",
            "Epoch 35/100\n",
            "62/62 [==============================] - 0s 4ms/step - loss: 0.6136 - accuracy: 0.6922\n",
            "Epoch 36/100\n",
            "62/62 [==============================] - 0s 4ms/step - loss: 0.6910 - accuracy: 0.6384\n",
            "Epoch 37/100\n",
            "62/62 [==============================] - 0s 4ms/step - loss: 0.5934 - accuracy: 0.7068\n",
            "Epoch 38/100\n",
            "62/62 [==============================] - 0s 4ms/step - loss: 0.6923 - accuracy: 0.6596\n",
            "Epoch 39/100\n",
            "62/62 [==============================] - 0s 4ms/step - loss: 0.6702 - accuracy: 0.6612\n",
            "Epoch 40/100\n",
            "62/62 [==============================] - 0s 3ms/step - loss: 0.6601 - accuracy: 0.6694\n",
            "Epoch 41/100\n",
            "62/62 [==============================] - 0s 4ms/step - loss: 0.6470 - accuracy: 0.6726\n",
            "Epoch 42/100\n",
            "62/62 [==============================] - 0s 4ms/step - loss: 0.6733 - accuracy: 0.6678\n",
            "Epoch 43/100\n",
            "62/62 [==============================] - 0s 4ms/step - loss: 0.6132 - accuracy: 0.7068\n",
            "Epoch 44/100\n",
            "62/62 [==============================] - 0s 4ms/step - loss: 0.6006 - accuracy: 0.6938\n",
            "Epoch 45/100\n",
            "62/62 [==============================] - 0s 4ms/step - loss: 0.6238 - accuracy: 0.6954\n",
            "Epoch 46/100\n",
            "62/62 [==============================] - 0s 4ms/step - loss: 0.6504 - accuracy: 0.6612\n",
            "Epoch 47/100\n",
            "62/62 [==============================] - 0s 4ms/step - loss: 0.7701 - accuracy: 0.6417\n",
            "Epoch 48/100\n",
            "62/62 [==============================] - 0s 4ms/step - loss: 0.6107 - accuracy: 0.6629\n",
            "Epoch 49/100\n",
            "62/62 [==============================] - 0s 4ms/step - loss: 0.5998 - accuracy: 0.6954\n",
            "Epoch 50/100\n",
            "62/62 [==============================] - 0s 4ms/step - loss: 0.5877 - accuracy: 0.6906\n",
            "Epoch 51/100\n",
            "62/62 [==============================] - 0s 4ms/step - loss: 0.6382 - accuracy: 0.6694\n",
            "Epoch 52/100\n",
            "62/62 [==============================] - 0s 4ms/step - loss: 0.6270 - accuracy: 0.6726\n",
            "Epoch 53/100\n",
            "62/62 [==============================] - 0s 4ms/step - loss: 0.6160 - accuracy: 0.7085\n",
            "Epoch 54/100\n",
            "62/62 [==============================] - 0s 4ms/step - loss: 0.6126 - accuracy: 0.6857\n",
            "Epoch 55/100\n",
            "62/62 [==============================] - 0s 4ms/step - loss: 0.6193 - accuracy: 0.6857\n",
            "Epoch 56/100\n",
            "62/62 [==============================] - 0s 4ms/step - loss: 0.6604 - accuracy: 0.6759\n",
            "Epoch 57/100\n",
            "62/62 [==============================] - 0s 4ms/step - loss: 0.6919 - accuracy: 0.6824\n",
            "Epoch 58/100\n",
            "62/62 [==============================] - 0s 4ms/step - loss: 0.7773 - accuracy: 0.6531\n",
            "Epoch 59/100\n",
            "62/62 [==============================] - 0s 4ms/step - loss: 0.6664 - accuracy: 0.6547\n",
            "Epoch 60/100\n",
            "62/62 [==============================] - 0s 4ms/step - loss: 0.5978 - accuracy: 0.7231\n",
            "Epoch 61/100\n",
            "62/62 [==============================] - 0s 4ms/step - loss: 0.5835 - accuracy: 0.7134\n",
            "Epoch 62/100\n",
            "62/62 [==============================] - 0s 4ms/step - loss: 0.5846 - accuracy: 0.7052\n",
            "Epoch 63/100\n",
            "62/62 [==============================] - 0s 4ms/step - loss: 0.6153 - accuracy: 0.6971\n",
            "Epoch 64/100\n",
            "62/62 [==============================] - 0s 4ms/step - loss: 0.6050 - accuracy: 0.7068\n",
            "Epoch 65/100\n",
            "62/62 [==============================] - 0s 4ms/step - loss: 0.6277 - accuracy: 0.6840\n",
            "Epoch 66/100\n",
            "62/62 [==============================] - 0s 4ms/step - loss: 0.5840 - accuracy: 0.7036\n",
            "Epoch 67/100\n",
            "62/62 [==============================] - 0s 4ms/step - loss: 0.5976 - accuracy: 0.6971\n",
            "Epoch 68/100\n",
            "62/62 [==============================] - 0s 4ms/step - loss: 0.5826 - accuracy: 0.7101\n",
            "Epoch 69/100\n",
            "62/62 [==============================] - 0s 4ms/step - loss: 0.6583 - accuracy: 0.6645\n",
            "Epoch 70/100\n",
            "62/62 [==============================] - 0s 4ms/step - loss: 0.6127 - accuracy: 0.7003\n",
            "Epoch 71/100\n",
            "62/62 [==============================] - 0s 4ms/step - loss: 0.6097 - accuracy: 0.7134\n",
            "Epoch 72/100\n",
            "62/62 [==============================] - 0s 4ms/step - loss: 0.5902 - accuracy: 0.7003\n",
            "Epoch 73/100\n",
            "62/62 [==============================] - 0s 4ms/step - loss: 0.6088 - accuracy: 0.7117\n",
            "Epoch 74/100\n",
            "62/62 [==============================] - 0s 4ms/step - loss: 0.5907 - accuracy: 0.7117\n",
            "Epoch 75/100\n",
            "62/62 [==============================] - 0s 4ms/step - loss: 0.6368 - accuracy: 0.6792\n",
            "Epoch 76/100\n",
            "62/62 [==============================] - 0s 4ms/step - loss: 0.6708 - accuracy: 0.6726\n",
            "Epoch 77/100\n",
            "62/62 [==============================] - 0s 4ms/step - loss: 0.5845 - accuracy: 0.7117\n",
            "Epoch 78/100\n",
            "62/62 [==============================] - 0s 4ms/step - loss: 0.6115 - accuracy: 0.7036\n",
            "Epoch 79/100\n",
            "62/62 [==============================] - 0s 4ms/step - loss: 0.5649 - accuracy: 0.7020\n",
            "Epoch 80/100\n",
            "62/62 [==============================] - 0s 4ms/step - loss: 0.6113 - accuracy: 0.6906\n",
            "Epoch 81/100\n",
            "62/62 [==============================] - 0s 4ms/step - loss: 0.6037 - accuracy: 0.7003\n",
            "Epoch 82/100\n",
            "62/62 [==============================] - 0s 4ms/step - loss: 0.5745 - accuracy: 0.7003\n",
            "Epoch 83/100\n",
            "62/62 [==============================] - 0s 4ms/step - loss: 0.5910 - accuracy: 0.7199\n",
            "Epoch 84/100\n",
            "62/62 [==============================] - 0s 4ms/step - loss: 0.6015 - accuracy: 0.6906\n",
            "Epoch 85/100\n",
            "62/62 [==============================] - 0s 4ms/step - loss: 0.6337 - accuracy: 0.6678\n",
            "Epoch 86/100\n",
            "62/62 [==============================] - 0s 4ms/step - loss: 0.6244 - accuracy: 0.7150\n",
            "Epoch 87/100\n",
            "62/62 [==============================] - 0s 4ms/step - loss: 0.5837 - accuracy: 0.7231\n",
            "Epoch 88/100\n",
            "62/62 [==============================] - 0s 4ms/step - loss: 0.5978 - accuracy: 0.7052\n",
            "Epoch 89/100\n",
            "62/62 [==============================] - 0s 4ms/step - loss: 0.5895 - accuracy: 0.7036\n",
            "Epoch 90/100\n",
            "62/62 [==============================] - 0s 4ms/step - loss: 0.6846 - accuracy: 0.6694\n",
            "Epoch 91/100\n",
            "62/62 [==============================] - 0s 4ms/step - loss: 0.6018 - accuracy: 0.7052\n",
            "Epoch 92/100\n",
            "62/62 [==============================] - 0s 4ms/step - loss: 0.6093 - accuracy: 0.6873\n",
            "Epoch 93/100\n",
            "62/62 [==============================] - 0s 4ms/step - loss: 0.5996 - accuracy: 0.7150\n",
            "Epoch 94/100\n",
            "62/62 [==============================] - 0s 4ms/step - loss: 0.5719 - accuracy: 0.7150\n",
            "Epoch 95/100\n",
            "62/62 [==============================] - 0s 4ms/step - loss: 0.5661 - accuracy: 0.7199\n",
            "Epoch 96/100\n",
            "62/62 [==============================] - 0s 4ms/step - loss: 0.6292 - accuracy: 0.6857\n",
            "Epoch 97/100\n",
            "62/62 [==============================] - 0s 4ms/step - loss: 0.6084 - accuracy: 0.7101\n",
            "Epoch 98/100\n",
            "62/62 [==============================] - 0s 4ms/step - loss: 0.6069 - accuracy: 0.6694\n",
            "Epoch 99/100\n",
            "62/62 [==============================] - 0s 4ms/step - loss: 0.5639 - accuracy: 0.7476\n",
            "Epoch 100/100\n",
            "62/62 [==============================] - 0s 4ms/step - loss: 0.5539 - accuracy: 0.7248\n"
          ]
        }
      ]
    },
    {
      "cell_type": "code",
      "source": [
        "print(grid_result.best_score_, grid_result.best_params_)"
      ],
      "metadata": {
        "colab": {
          "base_uri": "https://localhost:8080/"
        },
        "id": "nf53YpVB3Qa0",
        "outputId": "b9bb41f1-1c17-4075-91c7-5c28237c65bb"
      },
      "execution_count": null,
      "outputs": [
        {
          "output_type": "stream",
          "name": "stdout",
          "text": [
            "0.6840188105901083 {'activation': 'linear'}\n"
          ]
        }
      ]
    },
    {
      "cell_type": "code",
      "source": [
        "pred_y = grid.predict(X_test)\n",
        "y_pred = (pred_y > 0.5)"
      ],
      "metadata": {
        "id": "oLf8VwMK33rK"
      },
      "execution_count": null,
      "outputs": []
    },
    {
      "cell_type": "code",
      "source": [
        "from sklearn.metrics import confusion_matrix, accuracy_score\n",
        "cm = confusion_matrix(y_pred, y_test)\n",
        "acc = accuracy_score(y_pred, y_test)"
      ],
      "metadata": {
        "id": "YWsaadX-4cVx"
      },
      "execution_count": null,
      "outputs": []
    },
    {
      "cell_type": "code",
      "source": [
        "cm"
      ],
      "metadata": {
        "colab": {
          "base_uri": "https://localhost:8080/"
        },
        "id": "QV2hPFZU472F",
        "outputId": "08b1a189-d7cc-4b33-d42b-faf2e67117e3"
      },
      "execution_count": null,
      "outputs": [
        {
          "output_type": "execute_result",
          "data": {
            "text/plain": [
              "array([[106,  40],\n",
              "       [  1,   7]])"
            ]
          },
          "metadata": {},
          "execution_count": 20
        }
      ]
    },
    {
      "cell_type": "code",
      "source": [
        "acc"
      ],
      "metadata": {
        "colab": {
          "base_uri": "https://localhost:8080/"
        },
        "id": "LMzpX6B-481b",
        "outputId": "aa4ed311-918b-44f9-86c3-d58190e347b2"
      },
      "execution_count": null,
      "outputs": [
        {
          "output_type": "execute_result",
          "data": {
            "text/plain": [
              "0.7337662337662337"
            ]
          },
          "metadata": {},
          "execution_count": 21
        }
      ]
    },
    {
      "cell_type": "markdown",
      "source": [
        "# How to Tune Dropout Regularization"
      ],
      "metadata": {
        "id": "1GYcFwyl5HOZ"
      }
    },
    {
      "cell_type": "code",
      "source": [
        "import numpy as np\n",
        "from sklearn.model_selection import GridSearchCV\n",
        "from sklearn.model_selection import train_test_split\n",
        "from keras.models import Sequential\n",
        "from keras.layers import Dense\n",
        "from keras.layers import Dropout\n",
        "from keras.wrappers.scikit_learn import KerasClassifier\n"
      ],
      "metadata": {
        "id": "Q_El44OL49hF"
      },
      "execution_count": null,
      "outputs": []
    },
    {
      "cell_type": "code",
      "source": [
        "def create_model(dropout_rate=0.1):\n",
        "  model = Sequential()\n",
        "  model.add(Dense(16, input_dim=8, activation='relu'))\n",
        "  model.add(Dropout(rate = dropout_rate))\n",
        "  model.add(Dense(1, activation='relu'))\n",
        "  model.compile(loss='binary_crossentropy', optimizer='Adam', metrics=['accuracy'])\n",
        "  return model"
      ],
      "metadata": {
        "id": "DjZ6QBT85kFp"
      },
      "execution_count": null,
      "outputs": []
    },
    {
      "cell_type": "code",
      "source": [
        "df = np.loadtxt('/content/drive/MyDrive/DeepLearning/ANN/pima-indians-diabetes.csv', delimiter=',')\n",
        "X = df[:, 0:8]\n",
        "y = df[:, 8]"
      ],
      "metadata": {
        "id": "j0Ey6nVp7_W-"
      },
      "execution_count": null,
      "outputs": []
    },
    {
      "cell_type": "code",
      "source": [
        "X_train, X_test, y_train, y_test = train_test_split(X, y, test_size=0.2, random_state=0)"
      ],
      "metadata": {
        "id": "VvFk0UCS8a7s"
      },
      "execution_count": null,
      "outputs": []
    },
    {
      "cell_type": "code",
      "source": [
        "model = KerasClassifier(build_fn=create_model, batch_size=10, epochs=100, verbose=0)"
      ],
      "metadata": {
        "colab": {
          "base_uri": "https://localhost:8080/"
        },
        "id": "iXStppDp8j9l",
        "outputId": "44d9e7b8-f69d-4cf2-9e00-929c3fb0810a"
      },
      "execution_count": null,
      "outputs": [
        {
          "output_type": "stream",
          "name": "stderr",
          "text": [
            "/usr/local/lib/python3.7/dist-packages/ipykernel_launcher.py:1: DeprecationWarning: KerasClassifier is deprecated, use Sci-Keras (https://github.com/adriangb/scikeras) instead.\n",
            "  \"\"\"Entry point for launching an IPython kernel.\n"
          ]
        }
      ]
    },
    {
      "cell_type": "code",
      "source": [
        "dropout_rate = [0.0, 0.1, 0.2, 0.3, 0.4, 0.5, 0.6, 0.7, 0.8, 0.9]\n",
        "param = dict(dropout_rate=dropout_rate)\n",
        "\n",
        "grid = GridSearchCV(model, param_grid=param, cv=3, n_jobs=-1)"
      ],
      "metadata": {
        "id": "TFtyLN8i8u2N"
      },
      "execution_count": null,
      "outputs": []
    },
    {
      "cell_type": "code",
      "source": [
        "grid_result = grid.fit(X_train, y_train)"
      ],
      "metadata": {
        "id": "lRHctEi59DTb"
      },
      "execution_count": null,
      "outputs": []
    },
    {
      "cell_type": "code",
      "source": [
        "print(grid_result.best_score_, grid_result.best_params_)"
      ],
      "metadata": {
        "colab": {
          "base_uri": "https://localhost:8080/"
        },
        "id": "XKRDuNXc9IGF",
        "outputId": "c464703e-7327-453f-a491-3ca95064df51"
      },
      "execution_count": null,
      "outputs": [
        {
          "output_type": "stream",
          "name": "stdout",
          "text": [
            "0.6514984766642252 {'dropout_rate': 0.3}\n"
          ]
        }
      ]
    },
    {
      "cell_type": "code",
      "source": [
        "pred_y = grid.predict(X_test)\n",
        "y_pred = (pred_y > 0.5)"
      ],
      "metadata": {
        "id": "5TA-F_pM9PZk"
      },
      "execution_count": null,
      "outputs": []
    },
    {
      "cell_type": "code",
      "source": [
        "from sklearn.metrics import confusion_matrix, accuracy_score\n",
        "cm = confusion_matrix(y_test, y_pred)\n",
        "acc = accuracy_score(y_test, y_pred)"
      ],
      "metadata": {
        "id": "_H1IPi-v9ZyD"
      },
      "execution_count": null,
      "outputs": []
    },
    {
      "cell_type": "code",
      "source": [
        "cm"
      ],
      "metadata": {
        "colab": {
          "base_uri": "https://localhost:8080/"
        },
        "id": "47qXB8xh9sHK",
        "outputId": "e50fd4de-c5ad-4c1a-fd64-df47ec83bfe7"
      },
      "execution_count": null,
      "outputs": [
        {
          "output_type": "execute_result",
          "data": {
            "text/plain": [
              "array([[106,   1],\n",
              "       [ 47,   0]])"
            ]
          },
          "metadata": {},
          "execution_count": 53
        }
      ]
    },
    {
      "cell_type": "code",
      "source": [
        "acc"
      ],
      "metadata": {
        "colab": {
          "base_uri": "https://localhost:8080/"
        },
        "id": "NU7qIgWH90Zr",
        "outputId": "1aa4b04d-27dd-4e61-ad32-059855f30817"
      },
      "execution_count": null,
      "outputs": [
        {
          "output_type": "execute_result",
          "data": {
            "text/plain": [
              "0.6883116883116883"
            ]
          },
          "metadata": {},
          "execution_count": 54
        }
      ]
    },
    {
      "cell_type": "markdown",
      "source": [
        "# Number of neurons in hidden layer"
      ],
      "metadata": {
        "id": "m-uOBbdlBnb3"
      }
    },
    {
      "cell_type": "code",
      "source": [
        "!pip install scikeras"
      ],
      "metadata": {
        "colab": {
          "base_uri": "https://localhost:8080/"
        },
        "id": "Xi1NRx0rCG4K",
        "outputId": "bba2143e-eb53-406e-99c6-d0e11d75b570"
      },
      "execution_count": null,
      "outputs": [
        {
          "output_type": "stream",
          "name": "stdout",
          "text": [
            "Collecting scikeras\n",
            "  Downloading scikeras-0.6.0-py3-none-any.whl (27 kB)\n",
            "Collecting importlib-metadata<4,>=3\n",
            "  Downloading importlib_metadata-3.10.1-py3-none-any.whl (14 kB)\n",
            "Requirement already satisfied: packaging<22.0,>=0.21 in /usr/local/lib/python3.7/dist-packages (from scikeras) (21.3)\n",
            "Requirement already satisfied: scikit-learn>=1.0.0 in /usr/local/lib/python3.7/dist-packages (from scikeras) (1.0.1)\n",
            "Requirement already satisfied: typing-extensions>=3.6.4 in /usr/local/lib/python3.7/dist-packages (from importlib-metadata<4,>=3->scikeras) (3.10.0.2)\n",
            "Requirement already satisfied: zipp>=0.5 in /usr/local/lib/python3.7/dist-packages (from importlib-metadata<4,>=3->scikeras) (3.6.0)\n",
            "Requirement already satisfied: pyparsing!=3.0.5,>=2.0.2 in /usr/local/lib/python3.7/dist-packages (from packaging<22.0,>=0.21->scikeras) (3.0.6)\n",
            "Requirement already satisfied: scipy>=1.1.0 in /usr/local/lib/python3.7/dist-packages (from scikit-learn>=1.0.0->scikeras) (1.4.1)\n",
            "Requirement already satisfied: threadpoolctl>=2.0.0 in /usr/local/lib/python3.7/dist-packages (from scikit-learn>=1.0.0->scikeras) (3.0.0)\n",
            "Requirement already satisfied: numpy>=1.14.6 in /usr/local/lib/python3.7/dist-packages (from scikit-learn>=1.0.0->scikeras) (1.19.5)\n",
            "Requirement already satisfied: joblib>=0.11 in /usr/local/lib/python3.7/dist-packages (from scikit-learn>=1.0.0->scikeras) (1.1.0)\n",
            "Installing collected packages: importlib-metadata, scikeras\n",
            "  Attempting uninstall: importlib-metadata\n",
            "    Found existing installation: importlib-metadata 4.8.2\n",
            "    Uninstalling importlib-metadata-4.8.2:\n",
            "      Successfully uninstalled importlib-metadata-4.8.2\n",
            "\u001b[31mERROR: pip's dependency resolver does not currently take into account all the packages that are installed. This behaviour is the source of the following dependency conflicts.\n",
            "markdown 3.3.6 requires importlib-metadata>=4.4; python_version < \"3.10\", but you have importlib-metadata 3.10.1 which is incompatible.\u001b[0m\n",
            "Successfully installed importlib-metadata-3.10.1 scikeras-0.6.0\n"
          ]
        }
      ]
    },
    {
      "cell_type": "code",
      "source": [
        "import numpy as np\n",
        "from sklearn.model_selection import GridSearchCV\n",
        "from sklearn.model_selection import train_test_split\n",
        "from keras.models import Sequential\n",
        "from keras.layers import Dense, Dropout\n",
        "import scikeras\n",
        "from scikeras.wrappers import KerasClassifier\n",
        "#from keras.wrappers.scikit_learn import KerasClassifier"
      ],
      "metadata": {
        "id": "Nn3itAjw90uc"
      },
      "execution_count": null,
      "outputs": []
    },
    {
      "cell_type": "code",
      "source": [
        "def create_model(neurons=1):\n",
        "  model = Sequential()\n",
        "  model.add(Dense(units=neurons, input_dim=8, activation='linear', kernel_initializer='uniform'))\n",
        "  model.add(Dropout(0.2))\n",
        "  model.add(Dense(1, activation='sigmoid', kernel_initializer='uniform'))\n",
        "  model.compile(loss='binary_crossentropy', optimizer='Adam', metrics=['accuracy'])\n",
        "  return model"
      ],
      "metadata": {
        "id": "b7QOTEvyCCEu"
      },
      "execution_count": null,
      "outputs": []
    },
    {
      "cell_type": "code",
      "source": [
        "df = np.loadtxt('/content/drive/MyDrive/DeepLearning/ANN/pima-indians-diabetes.csv', delimiter=',')\n",
        "X = df[:, 0:8]\n",
        "y = df[:, 8]"
      ],
      "metadata": {
        "id": "ivCFR6-eDdbw"
      },
      "execution_count": null,
      "outputs": []
    },
    {
      "cell_type": "code",
      "source": [
        "X_train, X_test, y_train, y_test = train_test_split(X, y, test_size=0.2, random_state=0)"
      ],
      "metadata": {
        "id": "ETFD86xWDgoP"
      },
      "execution_count": null,
      "outputs": []
    },
    {
      "cell_type": "code",
      "source": [
        "neurons = [1, 5, 10, 15, 20, 25, 30]\n",
        "model = KerasClassifier(model=create_model, batch_size=10, epochs=100, verbose=0, neurons=1)"
      ],
      "metadata": {
        "id": "kf_LOPafDr9N"
      },
      "execution_count": null,
      "outputs": []
    },
    {
      "cell_type": "code",
      "source": [
        "neurons = [1, 5, 10, 15, 20, 25, 30]\n",
        "param = dict(neurons=neurons)\n",
        "\n",
        "grid = GridSearchCV(estimator=model, param_grid=param, cv=3, n_jobs=-1)"
      ],
      "metadata": {
        "id": "M06IhCjFEFwH"
      },
      "execution_count": null,
      "outputs": []
    },
    {
      "cell_type": "code",
      "source": [
        "grid_result = grid.fit(X_train, y_train)"
      ],
      "metadata": {
        "colab": {
          "base_uri": "https://localhost:8080/"
        },
        "id": "NgrBPXmEEeD2",
        "outputId": "2dd479c4-6f1b-4923-8437-bc8c73375d71"
      },
      "execution_count": null,
      "outputs": [
        {
          "output_type": "stream",
          "name": "stderr",
          "text": [
            "/usr/local/lib/python3.7/dist-packages/joblib/externals/loky/process_executor.py:705: UserWarning: A worker stopped while some jobs were given to the executor. This can be caused by a too short worker timeout or by a memory leak.\n",
            "  \"timeout or by a memory leak.\", UserWarning\n"
          ]
        }
      ]
    },
    {
      "cell_type": "code",
      "source": [
        "print(grid_result.best_score_, grid_result.best_params_)"
      ],
      "metadata": {
        "colab": {
          "base_uri": "https://localhost:8080/"
        },
        "id": "77R9xyShElGu",
        "outputId": "6530c8c8-8ad4-479b-d5c0-b0339014b5a2"
      },
      "execution_count": null,
      "outputs": [
        {
          "output_type": "stream",
          "name": "stdout",
          "text": [
            "0.7133269567989796 {'neurons': 30}\n"
          ]
        }
      ]
    },
    {
      "cell_type": "code",
      "source": [
        "pred_y = grid.predict(X_test)\n",
        "y_pred = (pred_y > 0.5)"
      ],
      "metadata": {
        "id": "rD66IKKtKaXo"
      },
      "execution_count": null,
      "outputs": []
    },
    {
      "cell_type": "code",
      "source": [
        "pred_y"
      ],
      "metadata": {
        "colab": {
          "base_uri": "https://localhost:8080/"
        },
        "id": "w5_6sZ-8FTad",
        "outputId": "7a6c09c9-92a7-4d21-8b68-c16f7f79edb2"
      },
      "execution_count": null,
      "outputs": [
        {
          "output_type": "execute_result",
          "data": {
            "text/plain": [
              "array([1., 0., 0., 0., 0., 0., 1., 0., 0., 0., 0., 1., 0., 0., 0., 0., 1.,\n",
              "       0., 0., 0., 0., 0., 1., 0., 0., 0., 0., 1., 0., 0., 0., 0., 0., 0.,\n",
              "       0., 1., 0., 0., 0., 1., 0., 0., 0., 1., 0., 0., 0., 0., 0., 0., 0.,\n",
              "       0., 1., 0., 0., 0., 0., 0., 0., 1., 0., 0., 0., 1., 0., 1., 0., 0.,\n",
              "       0., 0., 0., 1., 0., 1., 1., 0., 0., 0., 0., 0., 0., 0., 0., 0., 0.,\n",
              "       0., 0., 0., 1., 0., 0., 0., 0., 0., 0., 0., 0., 0., 0., 0., 0., 0.,\n",
              "       0., 0., 0., 0., 0., 0., 0., 1., 0., 0., 0., 0., 0., 0., 0., 1., 0.,\n",
              "       0., 0., 0., 0., 0., 0., 0., 0., 0., 0., 0., 0., 1., 0., 0., 0., 0.,\n",
              "       0., 0., 1., 0., 0., 0., 0., 0., 0., 0., 0., 0., 0., 0., 0., 0., 0.,\n",
              "       0.])"
            ]
          },
          "metadata": {},
          "execution_count": 52
        }
      ]
    },
    {
      "cell_type": "code",
      "source": [
        "from sklearn.metrics import confusion_matrix, accuracy_score\n",
        "cm = confusion_matrix(y_test, y_pred)\n",
        "acc = accuracy_score(y_test, y_pred)"
      ],
      "metadata": {
        "id": "pkXgeNvjFUkD"
      },
      "execution_count": null,
      "outputs": []
    },
    {
      "cell_type": "code",
      "source": [
        "cm"
      ],
      "metadata": {
        "colab": {
          "base_uri": "https://localhost:8080/"
        },
        "id": "M-m8Rw0hFsZd",
        "outputId": "5e5b0f99-f94e-4bdd-dfb7-82443b14515a"
      },
      "execution_count": null,
      "outputs": [
        {
          "output_type": "execute_result",
          "data": {
            "text/plain": [
              "array([[100,   7],\n",
              "       [ 33,  14]])"
            ]
          },
          "metadata": {},
          "execution_count": 55
        }
      ]
    },
    {
      "cell_type": "code",
      "source": [
        "acc"
      ],
      "metadata": {
        "colab": {
          "base_uri": "https://localhost:8080/"
        },
        "id": "YansAwWwFzJU",
        "outputId": "8dff2bfe-ddd0-4ebd-dbab-cdd820a72e85"
      },
      "execution_count": null,
      "outputs": [
        {
          "output_type": "execute_result",
          "data": {
            "text/plain": [
              "0.7402597402597403"
            ]
          },
          "metadata": {},
          "execution_count": 56
        }
      ]
    },
    {
      "cell_type": "markdown",
      "source": [
        "## Number of hidden layer"
      ],
      "metadata": {
        "id": "3mRm0lUrGQ-n"
      }
    },
    {
      "cell_type": "code",
      "source": [
        "import numpy as np\n",
        "from sklearn.model_selection import GridSearchCV, train_test_split\n",
        "from keras.layers import Dense, Dropout, Activation\n",
        "from keras.models import Sequential\n",
        "from scikeras.wrappers import KerasClassifier"
      ],
      "metadata": {
        "id": "F7c4LzoiFz30"
      },
      "execution_count": null,
      "outputs": []
    },
    {
      "cell_type": "code",
      "source": [
        "def create_model(layers, activation):\n",
        "  model = Sequential()\n",
        "  for i, nodes in enumerate(layers):\n",
        "    if i==0:\n",
        "      model.add(Dense(nodes, input_dim=X_train.shape[1]))\n",
        "      model.add(Activation(activation))\n",
        "      model.add(Dropout(0.2))\n",
        "    else:\n",
        "      model.add(Dense(nodes))\n",
        "      model.add(Activation(activation))\n",
        "      model.add(Dropout(0.2))\n",
        "\n",
        "  model.add(Dense(1, activation='sigmoid', kernel_initializer='uniform'))\n",
        "  model.compile(loss='binary_crossentropy', optimizer='adam', metrics=['accuracy'])\n",
        "  return model"
      ],
      "metadata": {
        "id": "m5VfJw-8Gq8D"
      },
      "execution_count": null,
      "outputs": []
    },
    {
      "cell_type": "code",
      "source": [
        "df = np.loadtxt('/content/drive/MyDrive/DeepLearning/ANN/pima-indians-diabetes.csv', delimiter=',')\n",
        "X = df[:, 0:8]\n",
        "y = df[:, 8]"
      ],
      "metadata": {
        "id": "ow9ZysJzIwLL"
      },
      "execution_count": null,
      "outputs": []
    },
    {
      "cell_type": "code",
      "source": [
        "X_train, X_test, y_train, y_test = train_test_split(X, y, test_size=0.2, random_state=0)"
      ],
      "metadata": {
        "id": "efX8-uDYIyTr"
      },
      "execution_count": null,
      "outputs": []
    },
    {
      "cell_type": "code",
      "source": [
        "model = KerasClassifier(build_fn=create_model, batch_size=10, epochs=100, verbose=0, activation='sigmoid', layers=[10])"
      ],
      "metadata": {
        "id": "Lkr5aQKmI9QC"
      },
      "execution_count": null,
      "outputs": []
    },
    {
      "cell_type": "code",
      "source": [
        "layers = [[10], [20, 30], [20, 30, 40]]\n",
        "activation = ['sigmoid', 'relu']\n",
        "param = dict(layers=layers, activation=activation)\n",
        "\n",
        "grid = GridSearchCV(estimator=model, param_grid=param, cv=3, n_jobs=-1)"
      ],
      "metadata": {
        "id": "Fa2F0akSJeBL"
      },
      "execution_count": null,
      "outputs": []
    },
    {
      "cell_type": "code",
      "source": [
        "grid_result = grid.fit(X_train, y_train)"
      ],
      "metadata": {
        "colab": {
          "base_uri": "https://localhost:8080/"
        },
        "id": "j_JDz4XCJ7lJ",
        "outputId": "66033fe5-322c-40d1-b033-45846fdf3953"
      },
      "execution_count": null,
      "outputs": [
        {
          "output_type": "stream",
          "name": "stderr",
          "text": [
            "/usr/local/lib/python3.7/dist-packages/scikeras/wrappers.py:290: UserWarning: ``build_fn`` will be renamed to ``model`` in a future release, at which point use of ``build_fn`` will raise an Error instead.\n",
            "  \"``build_fn`` will be renamed to ``model`` in a future release,\"\n"
          ]
        }
      ]
    },
    {
      "cell_type": "code",
      "source": [
        "print(grid_result.best_score_, grid_result.best_params_)"
      ],
      "metadata": {
        "colab": {
          "base_uri": "https://localhost:8080/"
        },
        "id": "hliocUPGKAzS",
        "outputId": "65cdd03a-1edc-45f6-accc-770c84c067be"
      },
      "execution_count": null,
      "outputs": [
        {
          "output_type": "stream",
          "name": "stdout",
          "text": [
            "0.7019049896381316 {'activation': 'relu', 'layers': [10]}\n"
          ]
        }
      ]
    },
    {
      "cell_type": "code",
      "source": [
        "pred_y = grid.predict(X_test)\n",
        "y_pred = (pred_y > 0.5)"
      ],
      "metadata": {
        "id": "tgd92tIuKWHN"
      },
      "execution_count": null,
      "outputs": []
    },
    {
      "cell_type": "code",
      "source": [
        "from sklearn.metrics import confusion_matrix, accuracy_score\n",
        "cm = confusion_matrix(y_test, y_pred)\n",
        "acc = accuracy_score(y_test, y_pred)"
      ],
      "metadata": {
        "id": "zSG6TMsOKi4L"
      },
      "execution_count": null,
      "outputs": []
    },
    {
      "cell_type": "code",
      "source": [
        "cm"
      ],
      "metadata": {
        "colab": {
          "base_uri": "https://localhost:8080/"
        },
        "id": "bj6cxXBNKys9",
        "outputId": "25e92c27-bc36-4e67-b1fd-54c708ebc1eb"
      },
      "execution_count": null,
      "outputs": [
        {
          "output_type": "execute_result",
          "data": {
            "text/plain": [
              "array([[93, 14],\n",
              "       [27, 20]])"
            ]
          },
          "metadata": {},
          "execution_count": 76
        }
      ]
    },
    {
      "cell_type": "code",
      "source": [
        "acc"
      ],
      "metadata": {
        "colab": {
          "base_uri": "https://localhost:8080/"
        },
        "id": "-WCaQN2FKyvz",
        "outputId": "bc5c6737-2215-42d8-ea16-06208b3c67dd"
      },
      "execution_count": null,
      "outputs": [
        {
          "output_type": "execute_result",
          "data": {
            "text/plain": [
              "0.7337662337662337"
            ]
          },
          "metadata": {},
          "execution_count": 77
        }
      ]
    },
    {
      "cell_type": "markdown",
      "source": [
        "========================================================================"
      ],
      "metadata": {
        "id": "ODO2zFbQLvgx"
      }
    },
    {
      "cell_type": "markdown",
      "source": [
        "# Keras Regressor"
      ],
      "metadata": {
        "id": "JUgfD_UWLvtO"
      }
    },
    {
      "cell_type": "code",
      "source": [
        "import numpy as np\n",
        "import pandas as pd\n",
        "from sklearn.model_selection import GridSearchCV, train_test_split\n",
        "from keras.layers import Dense, Dropout\n",
        "from keras.models import Sequential\n",
        "from scikeras.wrappers import KerasRegressor"
      ],
      "metadata": {
        "id": "uOXpz-krLouh"
      },
      "execution_count": null,
      "outputs": []
    },
    {
      "cell_type": "code",
      "source": [
        "def create_model(activation='relu'):\n",
        "  model = Sequential()\n",
        "  model.add(Dense(16, input_dim=X_train.shape[1], activation=activation))\n",
        "  model.add(Dropout(0.2))\n",
        "  model.add(Dense(1, activation='relu'))\n",
        "  model.compile(loss='mean_absolute_error', optimizer='adam', metrics=['mean_absolute_error'])\n",
        "  return model"
      ],
      "metadata": {
        "id": "JI74RoGVMndf"
      },
      "execution_count": null,
      "outputs": []
    },
    {
      "cell_type": "code",
      "source": [
        "dataset = pd.read_csv('/content/drive/MyDrive/DeepLearning/ANN/Complete_Deep_Learning/Churn_Modelling.csv')\n",
        "X = dataset.iloc[:, 3:-1]\n",
        "y = dataset.iloc[:, -1:]\n",
        "geography = pd.get_dummies(X['Geography'], drop_first=True)\n",
        "gender = pd.get_dummies(X['Gender'], drop_first=True)\n",
        "X = pd.concat([X, geography, gender], axis=1)\n",
        "X = X.drop(['Geography', 'Gender'], axis=1)"
      ],
      "metadata": {
        "id": "iB53wPN0PTEm"
      },
      "execution_count": null,
      "outputs": []
    },
    {
      "cell_type": "code",
      "source": [
        "X_train, X_test, y_train, y_test = train_test_split(X, y, test_size=0.2, random_state=0)"
      ],
      "metadata": {
        "id": "KSPXR-UYPVcW"
      },
      "execution_count": null,
      "outputs": []
    },
    {
      "cell_type": "code",
      "source": [
        "model = KerasRegressor(build_fn=create_model, batch_size=10, epochs=100, verbose=0, activation='relu')"
      ],
      "metadata": {
        "id": "h0msxoxxPX1e"
      },
      "execution_count": null,
      "outputs": []
    },
    {
      "cell_type": "code",
      "source": [
        "activation = ['relu', 'linear']\n",
        "param = dict(activation=activation)\n",
        "\n",
        "grid = GridSearchCV(estimator=model, param_grid=param, cv=3, n_jobs=-1)"
      ],
      "metadata": {
        "id": "9fyy9lSDPoR9"
      },
      "execution_count": null,
      "outputs": []
    },
    {
      "cell_type": "code",
      "source": [
        "grid_result = grid.fit(X_train, y_train)"
      ],
      "metadata": {
        "colab": {
          "base_uri": "https://localhost:8080/"
        },
        "id": "OSHhx9IWRqHK",
        "outputId": "46b31402-eed4-4d09-9ab7-120a25791d30"
      },
      "execution_count": null,
      "outputs": [
        {
          "metadata": {
            "tags": null
          },
          "name": "stderr",
          "output_type": "stream",
          "text": [
            "/usr/local/lib/python3.7/dist-packages/scikeras/wrappers.py:290: UserWarning: ``build_fn`` will be renamed to ``model`` in a future release, at which point use of ``build_fn`` will raise an Error instead.\n",
            "  \"``build_fn`` will be renamed to ``model`` in a future release,\"\n"
          ]
        }
      ]
    },
    {
      "cell_type": "code",
      "source": [
        "print(grid_result.best_score_, grid_result.best_params_)"
      ],
      "metadata": {
        "colab": {
          "base_uri": "https://localhost:8080/"
        },
        "id": "-lYmYDFSRzAT",
        "outputId": "0445394f-75d1-45f4-b620-8cbe05b7eabd"
      },
      "execution_count": null,
      "outputs": [
        {
          "output_type": "stream",
          "name": "stdout",
          "text": [
            "-0.2563089221127963 {'activation': 'relu'}\n"
          ]
        }
      ]
    },
    {
      "cell_type": "code",
      "source": [
        "y_pred = grid.predict(X_test)"
      ],
      "metadata": {
        "id": "scqVA34qWveq"
      },
      "execution_count": null,
      "outputs": []
    },
    {
      "cell_type": "code",
      "source": [
        "from sklearn.metrics import confusion_matrix, accuracy_score\n",
        "\n",
        "accuracy_score(y_test, y_pred)"
      ],
      "metadata": {
        "colab": {
          "base_uri": "https://localhost:8080/"
        },
        "id": "s6hjMs-uWzwJ",
        "outputId": "f86a0abd-6393-4932-d430-5bc7997d7588"
      },
      "execution_count": null,
      "outputs": [
        {
          "output_type": "execute_result",
          "data": {
            "text/plain": [
              "0.7975"
            ]
          },
          "metadata": {},
          "execution_count": 117
        }
      ]
    },
    {
      "cell_type": "code",
      "source": [
        ""
      ],
      "metadata": {
        "id": "TMY2UHhvY6_U"
      },
      "execution_count": null,
      "outputs": []
    }
  ]
}